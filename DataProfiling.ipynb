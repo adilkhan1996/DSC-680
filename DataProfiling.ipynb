{
  "cells": [
    {
      "cell_type": "markdown",
      "metadata": {
        "id": "rOKSbyjXALYk"
      },
      "source": [
        "# Data Profiling"
      ]
    },
    {
      "cell_type": "code",
      "execution_count": null,
      "metadata": {
        "id": "Gby2G-asALYs"
      },
      "outputs": [],
      "source": [
        "from pandas_profiling import ProfileReport\n",
        "import pandas as pd\n",
        "import numpy as np"
      ]
    },
    {
      "cell_type": "code",
      "execution_count": null,
      "metadata": {
        "id": "gh9bOL2nALYu"
      },
      "outputs": [],
      "source": [
        "main_df = pd.read_csv('../Data/analysis_dataset.csv')"
      ]
    },
    {
      "cell_type": "code",
      "execution_count": null,
      "metadata": {
        "id": "S0T4Zo04ALYv"
      },
      "outputs": [],
      "source": [
        "profile = ProfileReport(main_df, title=\"Peloton Data Profiling Report\")"
      ]
    },
    {
      "cell_type": "code",
      "execution_count": null,
      "metadata": {
        "colab": {
          "referenced_widgets": [
            "32274f399182498aae249a0df25c11f9",
            "f571dea2807b459c8fc0cb6185e512fc",
            "",
            "99441134d6fc41c89973e3f5e2844f0e"
          ]
        },
        "id": "O4rpl5SzALYw",
        "outputId": "94ec7d4d-f886-4b75-e25c-4036cfea90eb"
      },
      "outputs": [
        {
          "data": {
            "application/vnd.jupyter.widget-view+json": {
              "model_id": "32274f399182498aae249a0df25c11f9",
              "version_major": 2,
              "version_minor": 0
            },
            "text/plain": [
              "Summarize dataset:   0%|          | 0/52 [00:00<?, ?it/s]"
            ]
          },
          "metadata": {},
          "output_type": "display_data"
        },
        {
          "data": {
            "application/vnd.jupyter.widget-view+json": {
              "model_id": "f571dea2807b459c8fc0cb6185e512fc",
              "version_major": 2,
              "version_minor": 0
            },
            "text/plain": [
              "Generate report structure:   0%|          | 0/1 [00:00<?, ?it/s]"
            ]
          },
          "metadata": {},
          "output_type": "display_data"
        },
        {
          "data": {
            "application/vnd.jupyter.widget-view+json": {
              "model_id": "",
              "version_major": 2,
              "version_minor": 0
            },
            "text/plain": [
              "Render widgets:   0%|          | 0/1 [00:00<?, ?it/s]"
            ]
          },
          "metadata": {},
          "output_type": "display_data"
        },
        {
          "data": {
            "application/vnd.jupyter.widget-view+json": {
              "model_id": "99441134d6fc41c89973e3f5e2844f0e",
              "version_major": 2,
              "version_minor": 0
            },
            "text/plain": [
              "VBox(children=(Tab(children=(Tab(children=(GridBox(children=(VBox(children=(GridspecLayout(children=(HTML(valu…"
            ]
          },
          "metadata": {},
          "output_type": "display_data"
        }
      ],
      "source": [
        "profile.to_widgets()"
      ]
    },
    {
      "cell_type": "markdown",
      "metadata": {
        "id": "2S5zFXOkALYx"
      },
      "source": [
        "## Further Cleanup steps based on profiling report\n",
        "\n",
        "1. Separate start date and times\n",
        "2. Probably don't need created or end times\n",
        "3. Remove columns with a high number of missing values\n",
        "4. No longer need title\n",
        "5. Convert duration to minutes\n"
      ]
    },
    {
      "cell_type": "markdown",
      "metadata": {
        "id": "jiZIff-EALYz"
      },
      "source": [
        "### Date/Times"
      ]
    },
    {
      "cell_type": "code",
      "execution_count": null,
      "metadata": {
        "id": "VIHl4_x0ALY0"
      },
      "outputs": [],
      "source": [
        "#drop the end time and created at\n",
        "main_df = main_df.drop(columns=['created_at','end_time'])"
      ]
    },
    {
      "cell_type": "code",
      "execution_count": null,
      "metadata": {
        "id": "i0LsvRWhALY0"
      },
      "outputs": [],
      "source": [
        "#create new features from start date time\n",
        "# month, weekday, year, hour\n",
        "main_df['month']=pd.to_datetime(main_df['start_time'], utc=True).dt.month\n",
        "main_df['year']=pd.to_datetime(main_df['start_time'], utc=True).dt.year\n",
        "main_df['weekday']=pd.to_datetime(main_df['start_time'], utc=True).dt.weekday"
      ]
    },
    {
      "cell_type": "code",
      "execution_count": null,
      "metadata": {
        "id": "tL5AoF9jALY1"
      },
      "outputs": [],
      "source": [
        "starttime = main_df['start_time'].astype(str)\n",
        "\n",
        "starttime.str.find(' '),starttime.str.find(':')\n",
        "hour = starttime.str.slice(10,13)\n",
        "zone = starttime.str[-4:-3]\n"
      ]
    },
    {
      "cell_type": "code",
      "execution_count": null,
      "metadata": {
        "id": "2ll1uDw9ALY2"
      },
      "outputs": [],
      "source": [
        "main_df['hour'] = [int(hour[i])-1 if zone[i] == '5' else hour[i] for i,v in enumerate(zone)]"
      ]
    },
    {
      "cell_type": "code",
      "execution_count": null,
      "metadata": {
        "id": "OPo3esRBALY3"
      },
      "outputs": [],
      "source": [
        "main_df['hour'] = main_df['hour'].astype(int)"
      ]
    },
    {
      "cell_type": "code",
      "execution_count": null,
      "metadata": {
        "id": "uX9iRSjjALY3",
        "outputId": "acc154a6-142e-4380-bfd2-b32a1c3ab894"
      },
      "outputs": [
        {
          "data": {
            "text/html": [
              "<div>\n",
              "<style scoped>\n",
              "    .dataframe tbody tr th:only-of-type {\n",
              "        vertical-align: middle;\n",
              "    }\n",
              "\n",
              "    .dataframe tbody tr th {\n",
              "        vertical-align: top;\n",
              "    }\n",
              "\n",
              "    .dataframe thead th {\n",
              "        text-align: right;\n",
              "    }\n",
              "</style>\n",
              "<table border=\"1\" class=\"dataframe\">\n",
              "  <thead>\n",
              "    <tr style=\"text-align: right;\">\n",
              "      <th></th>\n",
              "      <th>start_time</th>\n",
              "      <th>hour</th>\n",
              "    </tr>\n",
              "  </thead>\n",
              "  <tbody>\n",
              "    <tr>\n",
              "      <th>0</th>\n",
              "      <td>2021-05-20 19:32:34-05:00</td>\n",
              "      <td>18</td>\n",
              "    </tr>\n",
              "    <tr>\n",
              "      <th>1</th>\n",
              "      <td>2021-05-20 18:30:44-05:00</td>\n",
              "      <td>17</td>\n",
              "    </tr>\n",
              "    <tr>\n",
              "      <th>2</th>\n",
              "      <td>2021-05-19 18:12:01-05:00</td>\n",
              "      <td>17</td>\n",
              "    </tr>\n",
              "    <tr>\n",
              "      <th>3</th>\n",
              "      <td>2021-05-19 17:24:44-05:00</td>\n",
              "      <td>16</td>\n",
              "    </tr>\n",
              "    <tr>\n",
              "      <th>4</th>\n",
              "      <td>2021-05-17 21:21:36-05:00</td>\n",
              "      <td>20</td>\n",
              "    </tr>\n",
              "    <tr>\n",
              "      <th>...</th>\n",
              "      <td>...</td>\n",
              "      <td>...</td>\n",
              "    </tr>\n",
              "    <tr>\n",
              "      <th>625</th>\n",
              "      <td>2017-04-24 12:01:56-05:00</td>\n",
              "      <td>11</td>\n",
              "    </tr>\n",
              "    <tr>\n",
              "      <th>626</th>\n",
              "      <td>2017-01-21 09:47:04-06:00</td>\n",
              "      <td>9</td>\n",
              "    </tr>\n",
              "    <tr>\n",
              "      <th>627</th>\n",
              "      <td>2017-01-17 06:51:26-06:00</td>\n",
              "      <td>6</td>\n",
              "    </tr>\n",
              "    <tr>\n",
              "      <th>628</th>\n",
              "      <td>2017-01-16 11:02:45-06:00</td>\n",
              "      <td>11</td>\n",
              "    </tr>\n",
              "    <tr>\n",
              "      <th>629</th>\n",
              "      <td>2017-01-14 10:46:00-06:00</td>\n",
              "      <td>10</td>\n",
              "    </tr>\n",
              "  </tbody>\n",
              "</table>\n",
              "<p>630 rows × 2 columns</p>\n",
              "</div>"
            ],
            "text/plain": [
              "                    start_time  hour\n",
              "0    2021-05-20 19:32:34-05:00    18\n",
              "1    2021-05-20 18:30:44-05:00    17\n",
              "2    2021-05-19 18:12:01-05:00    17\n",
              "3    2021-05-19 17:24:44-05:00    16\n",
              "4    2021-05-17 21:21:36-05:00    20\n",
              "..                         ...   ...\n",
              "625  2017-04-24 12:01:56-05:00    11\n",
              "626  2017-01-21 09:47:04-06:00     9\n",
              "627  2017-01-17 06:51:26-06:00     6\n",
              "628  2017-01-16 11:02:45-06:00    11\n",
              "629  2017-01-14 10:46:00-06:00    10\n",
              "\n",
              "[630 rows x 2 columns]"
            ]
          },
          "execution_count": 10,
          "metadata": {},
          "output_type": "execute_result"
        }
      ],
      "source": [
        "main_df[['start_time','hour']]"
      ]
    },
    {
      "cell_type": "markdown",
      "metadata": {
        "id": "u-GH0v9lALY4"
      },
      "source": [
        "### Drop Missing Values and Unnecessary fields"
      ]
    },
    {
      "cell_type": "code",
      "execution_count": null,
      "metadata": {
        "id": "pmPP9cJTALY4",
        "outputId": "aeaaa7bb-6fd7-4964-8ea3-e78f7e81440c"
      },
      "outputs": [
        {
          "data": {
            "text/html": [
              "<div>\n",
              "<style scoped>\n",
              "    .dataframe tbody tr th:only-of-type {\n",
              "        vertical-align: middle;\n",
              "    }\n",
              "\n",
              "    .dataframe tbody tr th {\n",
              "        vertical-align: top;\n",
              "    }\n",
              "\n",
              "    .dataframe thead th {\n",
              "        text-align: right;\n",
              "    }\n",
              "</style>\n",
              "<table border=\"1\" class=\"dataframe\">\n",
              "  <thead>\n",
              "    <tr style=\"text-align: right;\">\n",
              "      <th></th>\n",
              "      <th>fitness_discipline</th>\n",
              "      <th>is_total_work_personal_record</th>\n",
              "      <th>start_time</th>\n",
              "      <th>average_effort_score</th>\n",
              "      <th>leaderboard_rank</th>\n",
              "      <th>total_leaderboard_users</th>\n",
              "      <th>difficulty_estimate</th>\n",
              "      <th>overall_estimate</th>\n",
              "      <th>difficulty_rating_count</th>\n",
              "      <th>duration_x</th>\n",
              "      <th>...</th>\n",
              "      <th>avg_heart</th>\n",
              "      <th>max_output</th>\n",
              "      <th>max_resist</th>\n",
              "      <th>max_cadence</th>\n",
              "      <th>max_speed</th>\n",
              "      <th>Power Zone</th>\n",
              "      <th>month</th>\n",
              "      <th>year</th>\n",
              "      <th>weekday</th>\n",
              "      <th>hour</th>\n",
              "    </tr>\n",
              "  </thead>\n",
              "  <tbody>\n",
              "    <tr>\n",
              "      <th>0</th>\n",
              "      <td>stretching</td>\n",
              "      <td>False</td>\n",
              "      <td>2021-05-20 19:32:34-05:00</td>\n",
              "      <td>4.528333</td>\n",
              "      <td>NaN</td>\n",
              "      <td>0</td>\n",
              "      <td>2.9812</td>\n",
              "      <td>0.9991</td>\n",
              "      <td>40114</td>\n",
              "      <td>300</td>\n",
              "      <td>...</td>\n",
              "      <td>136</td>\n",
              "      <td>0</td>\n",
              "      <td>0</td>\n",
              "      <td>0</td>\n",
              "      <td>0.0</td>\n",
              "      <td>False</td>\n",
              "      <td>5</td>\n",
              "      <td>2021</td>\n",
              "      <td>4</td>\n",
              "      <td>18</td>\n",
              "    </tr>\n",
              "    <tr>\n",
              "      <th>1</th>\n",
              "      <td>cycling</td>\n",
              "      <td>False</td>\n",
              "      <td>2021-05-20 18:30:44-05:00</td>\n",
              "      <td>NaN</td>\n",
              "      <td>47001.0</td>\n",
              "      <td>53008</td>\n",
              "      <td>8.0258</td>\n",
              "      <td>0.9972</td>\n",
              "      <td>15529</td>\n",
              "      <td>3600</td>\n",
              "      <td>...</td>\n",
              "      <td>159</td>\n",
              "      <td>134</td>\n",
              "      <td>47</td>\n",
              "      <td>115</td>\n",
              "      <td>18.3</td>\n",
              "      <td>True</td>\n",
              "      <td>5</td>\n",
              "      <td>2021</td>\n",
              "      <td>3</td>\n",
              "      <td>17</td>\n",
              "    </tr>\n",
              "    <tr>\n",
              "      <th>2</th>\n",
              "      <td>stretching</td>\n",
              "      <td>False</td>\n",
              "      <td>2021-05-19 18:12:01-05:00</td>\n",
              "      <td>4.528333</td>\n",
              "      <td>NaN</td>\n",
              "      <td>0</td>\n",
              "      <td>3.5304</td>\n",
              "      <td>0.9979</td>\n",
              "      <td>111598</td>\n",
              "      <td>300</td>\n",
              "      <td>...</td>\n",
              "      <td>144</td>\n",
              "      <td>0</td>\n",
              "      <td>0</td>\n",
              "      <td>0</td>\n",
              "      <td>0.0</td>\n",
              "      <td>False</td>\n",
              "      <td>5</td>\n",
              "      <td>2021</td>\n",
              "      <td>2</td>\n",
              "      <td>17</td>\n",
              "    </tr>\n",
              "    <tr>\n",
              "      <th>3</th>\n",
              "      <td>cycling</td>\n",
              "      <td>False</td>\n",
              "      <td>2021-05-19 17:24:44-05:00</td>\n",
              "      <td>85.816667</td>\n",
              "      <td>61592.0</td>\n",
              "      <td>70270</td>\n",
              "      <td>8.2692</td>\n",
              "      <td>0.9957</td>\n",
              "      <td>17698</td>\n",
              "      <td>2700</td>\n",
              "      <td>...</td>\n",
              "      <td>160</td>\n",
              "      <td>146</td>\n",
              "      <td>44</td>\n",
              "      <td>116</td>\n",
              "      <td>18.9</td>\n",
              "      <td>True</td>\n",
              "      <td>5</td>\n",
              "      <td>2021</td>\n",
              "      <td>2</td>\n",
              "      <td>16</td>\n",
              "    </tr>\n",
              "    <tr>\n",
              "      <th>4</th>\n",
              "      <td>stretching</td>\n",
              "      <td>False</td>\n",
              "      <td>2021-05-17 21:21:36-05:00</td>\n",
              "      <td>4.528333</td>\n",
              "      <td>NaN</td>\n",
              "      <td>0</td>\n",
              "      <td>2.9812</td>\n",
              "      <td>0.9991</td>\n",
              "      <td>40114</td>\n",
              "      <td>300</td>\n",
              "      <td>...</td>\n",
              "      <td>129</td>\n",
              "      <td>0</td>\n",
              "      <td>0</td>\n",
              "      <td>0</td>\n",
              "      <td>0.0</td>\n",
              "      <td>False</td>\n",
              "      <td>5</td>\n",
              "      <td>2021</td>\n",
              "      <td>1</td>\n",
              "      <td>20</td>\n",
              "    </tr>\n",
              "  </tbody>\n",
              "</table>\n",
              "<p>5 rows × 33 columns</p>\n",
              "</div>"
            ],
            "text/plain": [
              "  fitness_discipline  is_total_work_personal_record  \\\n",
              "0         stretching                          False   \n",
              "1            cycling                          False   \n",
              "2         stretching                          False   \n",
              "3            cycling                          False   \n",
              "4         stretching                          False   \n",
              "\n",
              "                  start_time  average_effort_score  leaderboard_rank  \\\n",
              "0  2021-05-20 19:32:34-05:00              4.528333               NaN   \n",
              "1  2021-05-20 18:30:44-05:00                   NaN           47001.0   \n",
              "2  2021-05-19 18:12:01-05:00              4.528333               NaN   \n",
              "3  2021-05-19 17:24:44-05:00             85.816667           61592.0   \n",
              "4  2021-05-17 21:21:36-05:00              4.528333               NaN   \n",
              "\n",
              "   total_leaderboard_users  difficulty_estimate  overall_estimate  \\\n",
              "0                        0               2.9812            0.9991   \n",
              "1                    53008               8.0258            0.9972   \n",
              "2                        0               3.5304            0.9979   \n",
              "3                    70270               8.2692            0.9957   \n",
              "4                        0               2.9812            0.9991   \n",
              "\n",
              "   difficulty_rating_count  duration_x  ...  avg_heart  max_output max_resist  \\\n",
              "0                    40114         300  ...        136           0          0   \n",
              "1                    15529        3600  ...        159         134         47   \n",
              "2                   111598         300  ...        144           0          0   \n",
              "3                    17698        2700  ...        160         146         44   \n",
              "4                    40114         300  ...        129           0          0   \n",
              "\n",
              "  max_cadence max_speed  Power Zone  month  year  weekday  hour  \n",
              "0           0       0.0       False      5  2021        4    18  \n",
              "1         115      18.3        True      5  2021        3    17  \n",
              "2           0       0.0       False      5  2021        2    17  \n",
              "3         116      18.9        True      5  2021        2    16  \n",
              "4           0       0.0       False      5  2021        1    20  \n",
              "\n",
              "[5 rows x 33 columns]"
            ]
          },
          "execution_count": 11,
          "metadata": {},
          "output_type": "execute_result"
        }
      ],
      "source": [
        "main_df = main_df.drop(columns=['total_effort_points','heart_rate_z1_duration','heart_rate_z2_duration','heart_rate_z3_duration','heart_rate_z4_duration','heart_rate_z5_duration','title','id'])\n",
        "main_df.head()"
      ]
    },
    {
      "cell_type": "code",
      "execution_count": null,
      "metadata": {
        "id": "bw41rT9fALY5"
      },
      "outputs": [],
      "source": [
        "#convert duration to minutes\n",
        "main_df.duration_x = main_df.duration_x/60"
      ]
    },
    {
      "cell_type": "code",
      "execution_count": null,
      "metadata": {
        "id": "djr6A6SyALY5"
      },
      "outputs": [],
      "source": [
        "#further cleanup\n",
        "#extract date only column\n",
        "#remove average effort score only has two values; doesn't look useful\n",
        "#new field for leaderboard finish percent of total - the individual values have a high positive skew due to some rides with an extremely large number of riders\n",
        "#remove overall_estimate = high negative skew. most valus .9 and above.  This could be the thumbs up or thumbs down after a ride. \n",
        "#remove difficult rating count - number of users who rated the ride. highly positive skew.  does not seem to be relevant to personal workout performance\n",
        "#remove total workouts - highly positive skew an ddoes not seem relevant to personal workout performance\n",
        "#remove total in progress workouts - I thought this may have been number of other riders on at the same time but the max number of 59 does not make sense.\n",
        "#remove coach_type - all are peloton coaches and only one is a pro cyclist\n",
        "#remove instructorid - not needed anymore"
      ]
    },
    {
      "cell_type": "code",
      "execution_count": null,
      "metadata": {
        "id": "cv3QVYu5ALY6"
      },
      "outputs": [],
      "source": [
        "main_df['date_only'] = pd.to_datetime(main_df['start_time'],utc=True).dt.strftime(\"%m/%d/%Y\")"
      ]
    },
    {
      "cell_type": "code",
      "execution_count": null,
      "metadata": {
        "id": "faeX0F5yALY7"
      },
      "outputs": [],
      "source": [
        "main_df['percent_leaderboard_rank'] = (1 - (main_df['leaderboard_rank'] / main_df['total_leaderboard_users'])) * 100 "
      ]
    },
    {
      "cell_type": "code",
      "execution_count": null,
      "metadata": {
        "id": "Tgh1Rmm_ALY7"
      },
      "outputs": [],
      "source": [
        "main_df = main_df.drop(columns=['total_leaderboard_users','leaderboard_rank','average_effort_score','overall_estimate','difficulty_rating_count','total_workouts','total_in_progress_workouts','coach_type','instructor_id'])"
      ]
    },
    {
      "cell_type": "code",
      "execution_count": null,
      "metadata": {
        "colab": {
          "referenced_widgets": [
            "55f78172838a437fa85e1674ab06f26b",
            "61b2729ff717458b80741feab25df386",
            "",
            "de3f517985594357b7e593dec29d39e5"
          ]
        },
        "id": "Ampgx5jyALY8",
        "outputId": "d5859a96-6c2a-425e-f483-f2289cb0d491"
      },
      "outputs": [
        {
          "data": {
            "application/vnd.jupyter.widget-view+json": {
              "model_id": "55f78172838a437fa85e1674ab06f26b",
              "version_major": 2,
              "version_minor": 0
            },
            "text/plain": [
              "Summarize dataset:   0%|          | 0/39 [00:00<?, ?it/s]"
            ]
          },
          "metadata": {},
          "output_type": "display_data"
        },
        {
          "data": {
            "application/vnd.jupyter.widget-view+json": {
              "model_id": "61b2729ff717458b80741feab25df386",
              "version_major": 2,
              "version_minor": 0
            },
            "text/plain": [
              "Generate report structure:   0%|          | 0/1 [00:00<?, ?it/s]"
            ]
          },
          "metadata": {},
          "output_type": "display_data"
        },
        {
          "data": {
            "application/vnd.jupyter.widget-view+json": {
              "model_id": "",
              "version_major": 2,
              "version_minor": 0
            },
            "text/plain": [
              "Render widgets:   0%|          | 0/1 [00:00<?, ?it/s]"
            ]
          },
          "metadata": {},
          "output_type": "display_data"
        },
        {
          "data": {
            "application/vnd.jupyter.widget-view+json": {
              "model_id": "de3f517985594357b7e593dec29d39e5",
              "version_major": 2,
              "version_minor": 0
            },
            "text/plain": [
              "VBox(children=(Tab(children=(Tab(children=(GridBox(children=(VBox(children=(GridspecLayout(children=(HTML(valu…"
            ]
          },
          "metadata": {},
          "output_type": "display_data"
        }
      ],
      "source": [
        "#repeat profile report\n",
        "profile = ProfileReport(main_df, title=\"Peloton Data Profiling Report\")\n",
        "profile.to_widgets()"
      ]
    },
    {
      "cell_type": "code",
      "execution_count": null,
      "metadata": {
        "id": "C0URHZILALY8"
      },
      "outputs": [],
      "source": [
        "#plot further\n",
        "#difficulty_estimate: Mean - 5.730508917, Minimum-2.0554, Maximum- 9.5587; bimodal distribution\n",
        "#duration as categorical variable\n",
        "#instructors - separate by cycling and other\n",
        "#avg output, avg_cadence, avg_speed, avg_resistance, total output, total distance, max heart rate, avg heart rate, max output, max resist, max cadence, max speed - outliers at 0 associated with non cycling workouts.  scatter plot and histogram for cycling only\n",
        "#total_calories - by workout type\n",
        "#metrics on power zone vs non power zone rides.  use color as a way to indicate powerzone rides in various plots\n",
        "#month, weekday, year, hour\n",
        "#percent leaderboard rank\n",
        "#import month, weekday, year and hour as categories and recalculate correlation of numerical values.  Look at correlation of average cadence/resistance and  - which has the biggest impact on leaderboard rank. and output, and calories burned\n",
        "#plot weight with total output for each day and see how they are correlated"
      ]
    },
    {
      "cell_type": "code",
      "execution_count": null,
      "metadata": {
        "id": "qjtci5ATALY9"
      },
      "outputs": [],
      "source": [
        "#load the weight data and join to the fitness dataset\n",
        "weight_df = pd.read_csv('../Data/weight.csv')"
      ]
    },
    {
      "cell_type": "code",
      "execution_count": null,
      "metadata": {
        "id": "YGe2l5XXALY9",
        "outputId": "f88663c5-0327-4075-d6d5-73504743d287"
      },
      "outputs": [
        {
          "data": {
            "text/html": [
              "<div>\n",
              "<style scoped>\n",
              "    .dataframe tbody tr th:only-of-type {\n",
              "        vertical-align: middle;\n",
              "    }\n",
              "\n",
              "    .dataframe tbody tr th {\n",
              "        vertical-align: top;\n",
              "    }\n",
              "\n",
              "    .dataframe thead th {\n",
              "        text-align: right;\n",
              "    }\n",
              "</style>\n",
              "<table border=\"1\" class=\"dataframe\">\n",
              "  <thead>\n",
              "    <tr style=\"text-align: right;\">\n",
              "      <th></th>\n",
              "      <th>@type</th>\n",
              "      <th>@startDate</th>\n",
              "      <th>@value</th>\n",
              "    </tr>\n",
              "  </thead>\n",
              "  <tbody>\n",
              "    <tr>\n",
              "      <th>0</th>\n",
              "      <td>HKQuantityTypeIdentifierBodyMass</td>\n",
              "      <td>2019-09-06 06:49:40 -0500</td>\n",
              "      <td>180.2</td>\n",
              "    </tr>\n",
              "    <tr>\n",
              "      <th>1</th>\n",
              "      <td>HKQuantityTypeIdentifierBodyMass</td>\n",
              "      <td>2019-09-05 07:04:36 -0500</td>\n",
              "      <td>179.8</td>\n",
              "    </tr>\n",
              "    <tr>\n",
              "      <th>2</th>\n",
              "      <td>HKQuantityTypeIdentifierBodyMass</td>\n",
              "      <td>2019-09-03 06:26:54 -0500</td>\n",
              "      <td>180.6</td>\n",
              "    </tr>\n",
              "    <tr>\n",
              "      <th>3</th>\n",
              "      <td>HKQuantityTypeIdentifierBodyMass</td>\n",
              "      <td>2019-09-02 04:51:40 -0500</td>\n",
              "      <td>172.6</td>\n",
              "    </tr>\n",
              "    <tr>\n",
              "      <th>4</th>\n",
              "      <td>HKQuantityTypeIdentifierBodyMass</td>\n",
              "      <td>2019-08-29 06:40:13 -0500</td>\n",
              "      <td>177.6</td>\n",
              "    </tr>\n",
              "  </tbody>\n",
              "</table>\n",
              "</div>"
            ],
            "text/plain": [
              "                              @type                 @startDate  @value\n",
              "0  HKQuantityTypeIdentifierBodyMass  2019-09-06 06:49:40 -0500   180.2\n",
              "1  HKQuantityTypeIdentifierBodyMass  2019-09-05 07:04:36 -0500   179.8\n",
              "2  HKQuantityTypeIdentifierBodyMass  2019-09-03 06:26:54 -0500   180.6\n",
              "3  HKQuantityTypeIdentifierBodyMass  2019-09-02 04:51:40 -0500   172.6\n",
              "4  HKQuantityTypeIdentifierBodyMass  2019-08-29 06:40:13 -0500   177.6"
            ]
          },
          "execution_count": 20,
          "metadata": {},
          "output_type": "execute_result"
        }
      ],
      "source": [
        "weight_df.head()"
      ]
    },
    {
      "cell_type": "code",
      "execution_count": null,
      "metadata": {
        "id": "nCCoFN6lALY9"
      },
      "outputs": [],
      "source": [
        "#rename columns\n",
        "#isolate the date\n",
        "#flip to wide form"
      ]
    },
    {
      "cell_type": "code",
      "execution_count": null,
      "metadata": {
        "id": "iyAf4rqBALY-"
      },
      "outputs": [],
      "source": [
        "weight_df = weight_df.rename(columns={'@type':'type','@startDate':'startdate', '@value':'value'})"
      ]
    },
    {
      "cell_type": "code",
      "execution_count": null,
      "metadata": {
        "id": "3kPDL3cOALY-",
        "outputId": "8c8bf92f-6cdd-4530-b3c4-41cc87578711"
      },
      "outputs": [
        {
          "data": {
            "text/plain": [
              "(657, 3)"
            ]
          },
          "execution_count": 23,
          "metadata": {},
          "output_type": "execute_result"
        }
      ],
      "source": [
        "weight_df = weight_df.drop_duplicates()\n",
        "weight_df.shape"
      ]
    },
    {
      "cell_type": "code",
      "execution_count": null,
      "metadata": {
        "id": "z1_EnRWnALY-"
      },
      "outputs": [],
      "source": [
        "weight_df = weight_df.pivot(index='startdate', columns='type', values='value').reset_index()"
      ]
    },
    {
      "cell_type": "code",
      "execution_count": null,
      "metadata": {
        "id": "wF-4iEPJALY-",
        "outputId": "e47c7232-034a-43db-bde1-0e985f1d107a"
      },
      "outputs": [
        {
          "data": {
            "text/html": [
              "<div>\n",
              "<style scoped>\n",
              "    .dataframe tbody tr th:only-of-type {\n",
              "        vertical-align: middle;\n",
              "    }\n",
              "\n",
              "    .dataframe tbody tr th {\n",
              "        vertical-align: top;\n",
              "    }\n",
              "\n",
              "    .dataframe thead th {\n",
              "        text-align: right;\n",
              "    }\n",
              "</style>\n",
              "<table border=\"1\" class=\"dataframe\">\n",
              "  <thead>\n",
              "    <tr style=\"text-align: right;\">\n",
              "      <th>type</th>\n",
              "      <th>startdate</th>\n",
              "      <th>HKQuantityTypeIdentifierBodyMass</th>\n",
              "      <th>HKQuantityTypeIdentifierLeanBodyMass</th>\n",
              "      <th>date_only</th>\n",
              "    </tr>\n",
              "  </thead>\n",
              "  <tbody>\n",
              "    <tr>\n",
              "      <th>0</th>\n",
              "      <td>2018-10-27 09:13:32 -0500</td>\n",
              "      <td>197.0</td>\n",
              "      <td>148.8</td>\n",
              "      <td>10/27/2018</td>\n",
              "    </tr>\n",
              "    <tr>\n",
              "      <th>1</th>\n",
              "      <td>2018-10-28 11:34:55 -0500</td>\n",
              "      <td>197.6</td>\n",
              "      <td>149.0</td>\n",
              "      <td>10/28/2018</td>\n",
              "    </tr>\n",
              "    <tr>\n",
              "      <th>2</th>\n",
              "      <td>2018-10-30 06:44:29 -0500</td>\n",
              "      <td>194.6</td>\n",
              "      <td>147.6</td>\n",
              "      <td>10/30/2018</td>\n",
              "    </tr>\n",
              "    <tr>\n",
              "      <th>3</th>\n",
              "      <td>2018-11-01 07:52:51 -0500</td>\n",
              "      <td>190.6</td>\n",
              "      <td>145.6</td>\n",
              "      <td>11/01/2018</td>\n",
              "    </tr>\n",
              "    <tr>\n",
              "      <th>4</th>\n",
              "      <td>2018-11-02 07:26:00 -0500</td>\n",
              "      <td>188.8</td>\n",
              "      <td>144.8</td>\n",
              "      <td>11/02/2018</td>\n",
              "    </tr>\n",
              "  </tbody>\n",
              "</table>\n",
              "</div>"
            ],
            "text/plain": [
              "type                  startdate  HKQuantityTypeIdentifierBodyMass  \\\n",
              "0     2018-10-27 09:13:32 -0500                             197.0   \n",
              "1     2018-10-28 11:34:55 -0500                             197.6   \n",
              "2     2018-10-30 06:44:29 -0500                             194.6   \n",
              "3     2018-11-01 07:52:51 -0500                             190.6   \n",
              "4     2018-11-02 07:26:00 -0500                             188.8   \n",
              "\n",
              "type  HKQuantityTypeIdentifierLeanBodyMass   date_only  \n",
              "0                                    148.8  10/27/2018  \n",
              "1                                    149.0  10/28/2018  \n",
              "2                                    147.6  10/30/2018  \n",
              "3                                    145.6  11/01/2018  \n",
              "4                                    144.8  11/02/2018  "
            ]
          },
          "execution_count": 30,
          "metadata": {},
          "output_type": "execute_result"
        }
      ],
      "source": [
        "weight_df['date_only'] = pd.to_datetime(weight_df.startdate).dt.strftime('%m/%d/%Y')\n",
        "weight_df.head()"
      ]
    },
    {
      "cell_type": "code",
      "execution_count": null,
      "metadata": {
        "id": "q0WXa5HgALY_",
        "outputId": "cfd9b74c-47be-4bf4-9922-db91501af284"
      },
      "outputs": [
        {
          "data": {
            "text/html": [
              "<div>\n",
              "<style scoped>\n",
              "    .dataframe tbody tr th:only-of-type {\n",
              "        vertical-align: middle;\n",
              "    }\n",
              "\n",
              "    .dataframe tbody tr th {\n",
              "        vertical-align: top;\n",
              "    }\n",
              "\n",
              "    .dataframe thead th {\n",
              "        text-align: right;\n",
              "    }\n",
              "</style>\n",
              "<table border=\"1\" class=\"dataframe\">\n",
              "  <thead>\n",
              "    <tr style=\"text-align: right;\">\n",
              "      <th>type</th>\n",
              "      <th>startdate</th>\n",
              "      <th>body_mass</th>\n",
              "      <th>lean_body_mass</th>\n",
              "      <th>date_only</th>\n",
              "    </tr>\n",
              "  </thead>\n",
              "  <tbody>\n",
              "    <tr>\n",
              "      <th>0</th>\n",
              "      <td>2018-10-27 09:13:32 -0500</td>\n",
              "      <td>197.0</td>\n",
              "      <td>148.8</td>\n",
              "      <td>10/27/2018</td>\n",
              "    </tr>\n",
              "    <tr>\n",
              "      <th>1</th>\n",
              "      <td>2018-10-28 11:34:55 -0500</td>\n",
              "      <td>197.6</td>\n",
              "      <td>149.0</td>\n",
              "      <td>10/28/2018</td>\n",
              "    </tr>\n",
              "    <tr>\n",
              "      <th>2</th>\n",
              "      <td>2018-10-30 06:44:29 -0500</td>\n",
              "      <td>194.6</td>\n",
              "      <td>147.6</td>\n",
              "      <td>10/30/2018</td>\n",
              "    </tr>\n",
              "    <tr>\n",
              "      <th>3</th>\n",
              "      <td>2018-11-01 07:52:51 -0500</td>\n",
              "      <td>190.6</td>\n",
              "      <td>145.6</td>\n",
              "      <td>11/01/2018</td>\n",
              "    </tr>\n",
              "    <tr>\n",
              "      <th>4</th>\n",
              "      <td>2018-11-02 07:26:00 -0500</td>\n",
              "      <td>188.8</td>\n",
              "      <td>144.8</td>\n",
              "      <td>11/02/2018</td>\n",
              "    </tr>\n",
              "  </tbody>\n",
              "</table>\n",
              "</div>"
            ],
            "text/plain": [
              "type                  startdate  body_mass  lean_body_mass   date_only\n",
              "0     2018-10-27 09:13:32 -0500      197.0           148.8  10/27/2018\n",
              "1     2018-10-28 11:34:55 -0500      197.6           149.0  10/28/2018\n",
              "2     2018-10-30 06:44:29 -0500      194.6           147.6  10/30/2018\n",
              "3     2018-11-01 07:52:51 -0500      190.6           145.6  11/01/2018\n",
              "4     2018-11-02 07:26:00 -0500      188.8           144.8  11/02/2018"
            ]
          },
          "execution_count": 31,
          "metadata": {},
          "output_type": "execute_result"
        }
      ],
      "source": [
        "weight_df = weight_df.rename(columns={'HKQuantityTypeIdentifierBodyMass':'body_mass','HKQuantityTypeIdentifierLeanBodyMass':'lean_body_mass'})\n",
        "weight_df.head()"
      ]
    },
    {
      "cell_type": "code",
      "execution_count": null,
      "metadata": {
        "id": "PRkp4CTiALY_",
        "outputId": "b0001fd1-13a0-411e-8f0f-ac9843601144"
      },
      "outputs": [
        {
          "data": {
            "text/html": [
              "<div>\n",
              "<style scoped>\n",
              "    .dataframe tbody tr th:only-of-type {\n",
              "        vertical-align: middle;\n",
              "    }\n",
              "\n",
              "    .dataframe tbody tr th {\n",
              "        vertical-align: top;\n",
              "    }\n",
              "\n",
              "    .dataframe thead th {\n",
              "        text-align: right;\n",
              "    }\n",
              "</style>\n",
              "<table border=\"1\" class=\"dataframe\">\n",
              "  <thead>\n",
              "    <tr style=\"text-align: right;\">\n",
              "      <th>type</th>\n",
              "      <th>date_only</th>\n",
              "      <th>startdate</th>\n",
              "      <th>body_mass</th>\n",
              "      <th>lean_body_mass</th>\n",
              "    </tr>\n",
              "  </thead>\n",
              "  <tbody>\n",
              "    <tr>\n",
              "      <th>20</th>\n",
              "      <td>01/24/2021</td>\n",
              "      <td>6</td>\n",
              "      <td>6</td>\n",
              "      <td>6</td>\n",
              "    </tr>\n",
              "    <tr>\n",
              "      <th>160</th>\n",
              "      <td>06/22/2020</td>\n",
              "      <td>5</td>\n",
              "      <td>5</td>\n",
              "      <td>5</td>\n",
              "    </tr>\n",
              "    <tr>\n",
              "      <th>149</th>\n",
              "      <td>05/25/2020</td>\n",
              "      <td>5</td>\n",
              "      <td>5</td>\n",
              "      <td>5</td>\n",
              "    </tr>\n",
              "    <tr>\n",
              "      <th>65</th>\n",
              "      <td>02/26/2019</td>\n",
              "      <td>2</td>\n",
              "      <td>2</td>\n",
              "      <td>2</td>\n",
              "    </tr>\n",
              "    <tr>\n",
              "      <th>291</th>\n",
              "      <td>12/15/2018</td>\n",
              "      <td>2</td>\n",
              "      <td>2</td>\n",
              "      <td>2</td>\n",
              "    </tr>\n",
              "    <tr>\n",
              "      <th>...</th>\n",
              "      <td>...</td>\n",
              "      <td>...</td>\n",
              "      <td>...</td>\n",
              "      <td>...</td>\n",
              "    </tr>\n",
              "    <tr>\n",
              "      <th>103</th>\n",
              "      <td>04/09/2021</td>\n",
              "      <td>1</td>\n",
              "      <td>1</td>\n",
              "      <td>1</td>\n",
              "    </tr>\n",
              "    <tr>\n",
              "      <th>102</th>\n",
              "      <td>04/08/2021</td>\n",
              "      <td>1</td>\n",
              "      <td>1</td>\n",
              "      <td>1</td>\n",
              "    </tr>\n",
              "    <tr>\n",
              "      <th>101</th>\n",
              "      <td>04/06/2021</td>\n",
              "      <td>1</td>\n",
              "      <td>1</td>\n",
              "      <td>1</td>\n",
              "    </tr>\n",
              "    <tr>\n",
              "      <th>100</th>\n",
              "      <td>04/06/2019</td>\n",
              "      <td>1</td>\n",
              "      <td>1</td>\n",
              "      <td>1</td>\n",
              "    </tr>\n",
              "    <tr>\n",
              "      <th>304</th>\n",
              "      <td>12/31/2018</td>\n",
              "      <td>1</td>\n",
              "      <td>1</td>\n",
              "      <td>1</td>\n",
              "    </tr>\n",
              "  </tbody>\n",
              "</table>\n",
              "<p>305 rows × 4 columns</p>\n",
              "</div>"
            ],
            "text/plain": [
              "type   date_only  startdate  body_mass  lean_body_mass\n",
              "20    01/24/2021          6          6               6\n",
              "160   06/22/2020          5          5               5\n",
              "149   05/25/2020          5          5               5\n",
              "65    02/26/2019          2          2               2\n",
              "291   12/15/2018          2          2               2\n",
              "..           ...        ...        ...             ...\n",
              "103   04/09/2021          1          1               1\n",
              "102   04/08/2021          1          1               1\n",
              "101   04/06/2021          1          1               1\n",
              "100   04/06/2019          1          1               1\n",
              "304   12/31/2018          1          1               1\n",
              "\n",
              "[305 rows x 4 columns]"
            ]
          },
          "execution_count": 34,
          "metadata": {},
          "output_type": "execute_result"
        }
      ],
      "source": [
        "grouped = weight_df.groupby('date_only').count().reset_index()\n",
        "grouped.sort_values('startdate', ascending=False)"
      ]
    },
    {
      "cell_type": "code",
      "execution_count": null,
      "metadata": {
        "id": "8DyJhkrwALZA",
        "outputId": "60c70b85-0c19-4464-d326-05c79a5d3452"
      },
      "outputs": [
        {
          "data": {
            "text/html": [
              "<div>\n",
              "<style scoped>\n",
              "    .dataframe tbody tr th:only-of-type {\n",
              "        vertical-align: middle;\n",
              "    }\n",
              "\n",
              "    .dataframe tbody tr th {\n",
              "        vertical-align: top;\n",
              "    }\n",
              "\n",
              "    .dataframe thead th {\n",
              "        text-align: right;\n",
              "    }\n",
              "</style>\n",
              "<table border=\"1\" class=\"dataframe\">\n",
              "  <thead>\n",
              "    <tr style=\"text-align: right;\">\n",
              "      <th>type</th>\n",
              "      <th>date_only</th>\n",
              "      <th>startdate</th>\n",
              "      <th>body_mass</th>\n",
              "      <th>lean_body_mass</th>\n",
              "    </tr>\n",
              "  </thead>\n",
              "  <tbody>\n",
              "    <tr>\n",
              "      <th>20</th>\n",
              "      <td>01/24/2021</td>\n",
              "      <td>6</td>\n",
              "      <td>6</td>\n",
              "      <td>6</td>\n",
              "    </tr>\n",
              "    <tr>\n",
              "      <th>55</th>\n",
              "      <td>02/20/2019</td>\n",
              "      <td>2</td>\n",
              "      <td>2</td>\n",
              "      <td>2</td>\n",
              "    </tr>\n",
              "    <tr>\n",
              "      <th>65</th>\n",
              "      <td>02/26/2019</td>\n",
              "      <td>2</td>\n",
              "      <td>2</td>\n",
              "      <td>2</td>\n",
              "    </tr>\n",
              "    <tr>\n",
              "      <th>78</th>\n",
              "      <td>03/15/2021</td>\n",
              "      <td>2</td>\n",
              "      <td>2</td>\n",
              "      <td>2</td>\n",
              "    </tr>\n",
              "    <tr>\n",
              "      <th>149</th>\n",
              "      <td>05/25/2020</td>\n",
              "      <td>5</td>\n",
              "      <td>5</td>\n",
              "      <td>5</td>\n",
              "    </tr>\n",
              "    <tr>\n",
              "      <th>160</th>\n",
              "      <td>06/22/2020</td>\n",
              "      <td>5</td>\n",
              "      <td>5</td>\n",
              "      <td>5</td>\n",
              "    </tr>\n",
              "    <tr>\n",
              "      <th>169</th>\n",
              "      <td>07/03/2019</td>\n",
              "      <td>2</td>\n",
              "      <td>2</td>\n",
              "      <td>2</td>\n",
              "    </tr>\n",
              "    <tr>\n",
              "      <th>184</th>\n",
              "      <td>07/26/2020</td>\n",
              "      <td>2</td>\n",
              "      <td>2</td>\n",
              "      <td>2</td>\n",
              "    </tr>\n",
              "    <tr>\n",
              "      <th>192</th>\n",
              "      <td>08/07/2020</td>\n",
              "      <td>2</td>\n",
              "      <td>2</td>\n",
              "      <td>2</td>\n",
              "    </tr>\n",
              "    <tr>\n",
              "      <th>256</th>\n",
              "      <td>11/08/2018</td>\n",
              "      <td>2</td>\n",
              "      <td>2</td>\n",
              "      <td>2</td>\n",
              "    </tr>\n",
              "    <tr>\n",
              "      <th>259</th>\n",
              "      <td>11/11/2018</td>\n",
              "      <td>2</td>\n",
              "      <td>2</td>\n",
              "      <td>2</td>\n",
              "    </tr>\n",
              "    <tr>\n",
              "      <th>261</th>\n",
              "      <td>11/13/2018</td>\n",
              "      <td>2</td>\n",
              "      <td>2</td>\n",
              "      <td>2</td>\n",
              "    </tr>\n",
              "    <tr>\n",
              "      <th>262</th>\n",
              "      <td>11/14/2018</td>\n",
              "      <td>2</td>\n",
              "      <td>2</td>\n",
              "      <td>2</td>\n",
              "    </tr>\n",
              "    <tr>\n",
              "      <th>291</th>\n",
              "      <td>12/15/2018</td>\n",
              "      <td>2</td>\n",
              "      <td>2</td>\n",
              "      <td>2</td>\n",
              "    </tr>\n",
              "  </tbody>\n",
              "</table>\n",
              "</div>"
            ],
            "text/plain": [
              "type   date_only  startdate  body_mass  lean_body_mass\n",
              "20    01/24/2021          6          6               6\n",
              "55    02/20/2019          2          2               2\n",
              "65    02/26/2019          2          2               2\n",
              "78    03/15/2021          2          2               2\n",
              "149   05/25/2020          5          5               5\n",
              "160   06/22/2020          5          5               5\n",
              "169   07/03/2019          2          2               2\n",
              "184   07/26/2020          2          2               2\n",
              "192   08/07/2020          2          2               2\n",
              "256   11/08/2018          2          2               2\n",
              "259   11/11/2018          2          2               2\n",
              "261   11/13/2018          2          2               2\n",
              "262   11/14/2018          2          2               2\n",
              "291   12/15/2018          2          2               2"
            ]
          },
          "execution_count": 36,
          "metadata": {},
          "output_type": "execute_result"
        }
      ],
      "source": [
        "grouped[grouped.startdate > 1]"
      ]
    },
    {
      "cell_type": "code",
      "execution_count": null,
      "metadata": {
        "id": "nxGk6p3UALZA",
        "outputId": "4485820b-9e57-4271-f64c-7e340c91a293"
      },
      "outputs": [
        {
          "data": {
            "text/html": [
              "<div>\n",
              "<style scoped>\n",
              "    .dataframe tbody tr th:only-of-type {\n",
              "        vertical-align: middle;\n",
              "    }\n",
              "\n",
              "    .dataframe tbody tr th {\n",
              "        vertical-align: top;\n",
              "    }\n",
              "\n",
              "    .dataframe thead th {\n",
              "        text-align: right;\n",
              "    }\n",
              "</style>\n",
              "<table border=\"1\" class=\"dataframe\">\n",
              "  <thead>\n",
              "    <tr style=\"text-align: right;\">\n",
              "      <th>type</th>\n",
              "      <th>startdate</th>\n",
              "      <th>body_mass</th>\n",
              "      <th>lean_body_mass</th>\n",
              "      <th>date_only</th>\n",
              "    </tr>\n",
              "  </thead>\n",
              "  <tbody>\n",
              "    <tr>\n",
              "      <th>249</th>\n",
              "      <td>2021-01-24 12:22:50 -0500</td>\n",
              "      <td>195.0</td>\n",
              "      <td>147.6</td>\n",
              "      <td>01/24/2021</td>\n",
              "    </tr>\n",
              "    <tr>\n",
              "      <th>250</th>\n",
              "      <td>2021-01-24 12:22:51 -0500</td>\n",
              "      <td>192.8</td>\n",
              "      <td>146.4</td>\n",
              "      <td>01/24/2021</td>\n",
              "    </tr>\n",
              "    <tr>\n",
              "      <th>251</th>\n",
              "      <td>2021-01-24 12:22:52 -0500</td>\n",
              "      <td>192.6</td>\n",
              "      <td>146.4</td>\n",
              "      <td>01/24/2021</td>\n",
              "    </tr>\n",
              "    <tr>\n",
              "      <th>252</th>\n",
              "      <td>2021-01-24 12:22:53 -0500</td>\n",
              "      <td>192.6</td>\n",
              "      <td>146.4</td>\n",
              "      <td>01/24/2021</td>\n",
              "    </tr>\n",
              "    <tr>\n",
              "      <th>253</th>\n",
              "      <td>2021-01-24 12:22:54 -0500</td>\n",
              "      <td>193.0</td>\n",
              "      <td>146.6</td>\n",
              "      <td>01/24/2021</td>\n",
              "    </tr>\n",
              "    <tr>\n",
              "      <th>254</th>\n",
              "      <td>2021-01-24 12:22:55 -0500</td>\n",
              "      <td>194.2</td>\n",
              "      <td>147.0</td>\n",
              "      <td>01/24/2021</td>\n",
              "    </tr>\n",
              "  </tbody>\n",
              "</table>\n",
              "</div>"
            ],
            "text/plain": [
              "type                  startdate  body_mass  lean_body_mass   date_only\n",
              "249   2021-01-24 12:22:50 -0500      195.0           147.6  01/24/2021\n",
              "250   2021-01-24 12:22:51 -0500      192.8           146.4  01/24/2021\n",
              "251   2021-01-24 12:22:52 -0500      192.6           146.4  01/24/2021\n",
              "252   2021-01-24 12:22:53 -0500      192.6           146.4  01/24/2021\n",
              "253   2021-01-24 12:22:54 -0500      193.0           146.6  01/24/2021\n",
              "254   2021-01-24 12:22:55 -0500      194.2           147.0  01/24/2021"
            ]
          },
          "execution_count": 35,
          "metadata": {},
          "output_type": "execute_result"
        }
      ],
      "source": [
        "weight_df[weight_df['date_only'] == '01/24/2021']"
      ]
    },
    {
      "cell_type": "code",
      "execution_count": null,
      "metadata": {
        "id": "D0mzWJtDALZA"
      },
      "outputs": [],
      "source": [
        "weight_df = weight_df.groupby('date_only')[['body_mass','lean_body_mass']].mean().reset_index()"
      ]
    },
    {
      "cell_type": "code",
      "execution_count": null,
      "metadata": {
        "id": "uUMolALGALZA",
        "outputId": "807ece15-0d48-4e39-c0d4-e57a245a10da"
      },
      "outputs": [
        {
          "data": {
            "text/html": [
              "<div>\n",
              "<style scoped>\n",
              "    .dataframe tbody tr th:only-of-type {\n",
              "        vertical-align: middle;\n",
              "    }\n",
              "\n",
              "    .dataframe tbody tr th {\n",
              "        vertical-align: top;\n",
              "    }\n",
              "\n",
              "    .dataframe thead th {\n",
              "        text-align: right;\n",
              "    }\n",
              "</style>\n",
              "<table border=\"1\" class=\"dataframe\">\n",
              "  <thead>\n",
              "    <tr style=\"text-align: right;\">\n",
              "      <th>type</th>\n",
              "      <th>body_mass</th>\n",
              "      <th>lean_body_mass</th>\n",
              "    </tr>\n",
              "    <tr>\n",
              "      <th>date_only</th>\n",
              "      <th></th>\n",
              "      <th></th>\n",
              "    </tr>\n",
              "  </thead>\n",
              "  <tbody>\n",
              "    <tr>\n",
              "      <th>12/31/2018</th>\n",
              "      <td>1</td>\n",
              "      <td>1</td>\n",
              "    </tr>\n",
              "    <tr>\n",
              "      <th>12/30/2018</th>\n",
              "      <td>1</td>\n",
              "      <td>1</td>\n",
              "    </tr>\n",
              "    <tr>\n",
              "      <th>12/28/2018</th>\n",
              "      <td>1</td>\n",
              "      <td>1</td>\n",
              "    </tr>\n",
              "    <tr>\n",
              "      <th>12/27/2018</th>\n",
              "      <td>1</td>\n",
              "      <td>1</td>\n",
              "    </tr>\n",
              "    <tr>\n",
              "      <th>12/26/2018</th>\n",
              "      <td>1</td>\n",
              "      <td>1</td>\n",
              "    </tr>\n",
              "    <tr>\n",
              "      <th>...</th>\n",
              "      <td>...</td>\n",
              "      <td>...</td>\n",
              "    </tr>\n",
              "    <tr>\n",
              "      <th>01/05/2019</th>\n",
              "      <td>1</td>\n",
              "      <td>1</td>\n",
              "    </tr>\n",
              "    <tr>\n",
              "      <th>01/04/2019</th>\n",
              "      <td>1</td>\n",
              "      <td>1</td>\n",
              "    </tr>\n",
              "    <tr>\n",
              "      <th>01/03/2019</th>\n",
              "      <td>1</td>\n",
              "      <td>1</td>\n",
              "    </tr>\n",
              "    <tr>\n",
              "      <th>01/02/2019</th>\n",
              "      <td>1</td>\n",
              "      <td>1</td>\n",
              "    </tr>\n",
              "    <tr>\n",
              "      <th>01/01/2019</th>\n",
              "      <td>1</td>\n",
              "      <td>1</td>\n",
              "    </tr>\n",
              "  </tbody>\n",
              "</table>\n",
              "<p>305 rows × 2 columns</p>\n",
              "</div>"
            ],
            "text/plain": [
              "type        body_mass  lean_body_mass\n",
              "date_only                            \n",
              "12/31/2018          1               1\n",
              "12/30/2018          1               1\n",
              "12/28/2018          1               1\n",
              "12/27/2018          1               1\n",
              "12/26/2018          1               1\n",
              "...               ...             ...\n",
              "01/05/2019          1               1\n",
              "01/04/2019          1               1\n",
              "01/03/2019          1               1\n",
              "01/02/2019          1               1\n",
              "01/01/2019          1               1\n",
              "\n",
              "[305 rows x 2 columns]"
            ]
          },
          "execution_count": 43,
          "metadata": {},
          "output_type": "execute_result"
        }
      ],
      "source": [
        "#check for dupes\n",
        "grouped = weight_df.groupby('date_only').count()\n",
        "grouped.sort_values('date_only', ascending=False)"
      ]
    },
    {
      "cell_type": "code",
      "execution_count": null,
      "metadata": {
        "id": "jGHDJUmGALZB"
      },
      "outputs": [],
      "source": [
        "#no duplicates - merge with the main_df\n",
        "main_df = pd.merge(main_df, weight_df, left_on='date_only',right_on='date_only', how='left')"
      ]
    },
    {
      "cell_type": "code",
      "execution_count": null,
      "metadata": {
        "id": "FVWaUXoSALZB",
        "outputId": "babfd059-3dda-4348-ad42-e648bea54738"
      },
      "outputs": [
        {
          "data": {
            "text/html": [
              "<div>\n",
              "<style scoped>\n",
              "    .dataframe tbody tr th:only-of-type {\n",
              "        vertical-align: middle;\n",
              "    }\n",
              "\n",
              "    .dataframe tbody tr th {\n",
              "        vertical-align: top;\n",
              "    }\n",
              "\n",
              "    .dataframe thead th {\n",
              "        text-align: right;\n",
              "    }\n",
              "</style>\n",
              "<table border=\"1\" class=\"dataframe\">\n",
              "  <thead>\n",
              "    <tr style=\"text-align: right;\">\n",
              "      <th></th>\n",
              "      <th>fitness_discipline</th>\n",
              "      <th>is_total_work_personal_record</th>\n",
              "      <th>start_time</th>\n",
              "      <th>difficulty_estimate</th>\n",
              "      <th>duration_x</th>\n",
              "      <th>name_y</th>\n",
              "      <th>avg_output</th>\n",
              "      <th>avg_cadence</th>\n",
              "      <th>avg_resistance</th>\n",
              "      <th>avg_speed</th>\n",
              "      <th>...</th>\n",
              "      <th>max_speed</th>\n",
              "      <th>Power Zone</th>\n",
              "      <th>month</th>\n",
              "      <th>year</th>\n",
              "      <th>weekday</th>\n",
              "      <th>hour</th>\n",
              "      <th>date_only</th>\n",
              "      <th>percent_leaderboard_rank</th>\n",
              "      <th>body_mass</th>\n",
              "      <th>lean_body_mass</th>\n",
              "    </tr>\n",
              "  </thead>\n",
              "  <tbody>\n",
              "    <tr>\n",
              "      <th>0</th>\n",
              "      <td>stretching</td>\n",
              "      <td>False</td>\n",
              "      <td>2021-05-20 19:32:34-05:00</td>\n",
              "      <td>2.9812</td>\n",
              "      <td>5.0</td>\n",
              "      <td>Matt Wilpers</td>\n",
              "      <td>0</td>\n",
              "      <td>0</td>\n",
              "      <td>0</td>\n",
              "      <td>0.0</td>\n",
              "      <td>...</td>\n",
              "      <td>0.0</td>\n",
              "      <td>False</td>\n",
              "      <td>5</td>\n",
              "      <td>2021</td>\n",
              "      <td>4</td>\n",
              "      <td>18</td>\n",
              "      <td>05/21/2021</td>\n",
              "      <td>NaN</td>\n",
              "      <td>NaN</td>\n",
              "      <td>NaN</td>\n",
              "    </tr>\n",
              "    <tr>\n",
              "      <th>1</th>\n",
              "      <td>cycling</td>\n",
              "      <td>False</td>\n",
              "      <td>2021-05-20 18:30:44-05:00</td>\n",
              "      <td>8.0258</td>\n",
              "      <td>60.0</td>\n",
              "      <td>Matt Wilpers</td>\n",
              "      <td>89</td>\n",
              "      <td>85</td>\n",
              "      <td>35</td>\n",
              "      <td>15.3</td>\n",
              "      <td>...</td>\n",
              "      <td>18.3</td>\n",
              "      <td>True</td>\n",
              "      <td>5</td>\n",
              "      <td>2021</td>\n",
              "      <td>3</td>\n",
              "      <td>17</td>\n",
              "      <td>05/20/2021</td>\n",
              "      <td>11.332252</td>\n",
              "      <td>NaN</td>\n",
              "      <td>NaN</td>\n",
              "    </tr>\n",
              "    <tr>\n",
              "      <th>2</th>\n",
              "      <td>stretching</td>\n",
              "      <td>False</td>\n",
              "      <td>2021-05-19 18:12:01-05:00</td>\n",
              "      <td>3.5304</td>\n",
              "      <td>5.0</td>\n",
              "      <td>Denis Morton</td>\n",
              "      <td>0</td>\n",
              "      <td>0</td>\n",
              "      <td>0</td>\n",
              "      <td>0.0</td>\n",
              "      <td>...</td>\n",
              "      <td>0.0</td>\n",
              "      <td>False</td>\n",
              "      <td>5</td>\n",
              "      <td>2021</td>\n",
              "      <td>2</td>\n",
              "      <td>17</td>\n",
              "      <td>05/19/2021</td>\n",
              "      <td>NaN</td>\n",
              "      <td>NaN</td>\n",
              "      <td>NaN</td>\n",
              "    </tr>\n",
              "    <tr>\n",
              "      <th>3</th>\n",
              "      <td>cycling</td>\n",
              "      <td>False</td>\n",
              "      <td>2021-05-19 17:24:44-05:00</td>\n",
              "      <td>8.2692</td>\n",
              "      <td>45.0</td>\n",
              "      <td>Denis Morton</td>\n",
              "      <td>88</td>\n",
              "      <td>87</td>\n",
              "      <td>33</td>\n",
              "      <td>14.7</td>\n",
              "      <td>...</td>\n",
              "      <td>18.9</td>\n",
              "      <td>True</td>\n",
              "      <td>5</td>\n",
              "      <td>2021</td>\n",
              "      <td>2</td>\n",
              "      <td>16</td>\n",
              "      <td>05/19/2021</td>\n",
              "      <td>12.349509</td>\n",
              "      <td>NaN</td>\n",
              "      <td>NaN</td>\n",
              "    </tr>\n",
              "    <tr>\n",
              "      <th>4</th>\n",
              "      <td>stretching</td>\n",
              "      <td>False</td>\n",
              "      <td>2021-05-17 21:21:36-05:00</td>\n",
              "      <td>2.9812</td>\n",
              "      <td>5.0</td>\n",
              "      <td>Matt Wilpers</td>\n",
              "      <td>0</td>\n",
              "      <td>0</td>\n",
              "      <td>0</td>\n",
              "      <td>0.0</td>\n",
              "      <td>...</td>\n",
              "      <td>0.0</td>\n",
              "      <td>False</td>\n",
              "      <td>5</td>\n",
              "      <td>2021</td>\n",
              "      <td>1</td>\n",
              "      <td>20</td>\n",
              "      <td>05/18/2021</td>\n",
              "      <td>NaN</td>\n",
              "      <td>191.8</td>\n",
              "      <td>124.2</td>\n",
              "    </tr>\n",
              "  </tbody>\n",
              "</table>\n",
              "<p>5 rows × 28 columns</p>\n",
              "</div>"
            ],
            "text/plain": [
              "  fitness_discipline  is_total_work_personal_record  \\\n",
              "0         stretching                          False   \n",
              "1            cycling                          False   \n",
              "2         stretching                          False   \n",
              "3            cycling                          False   \n",
              "4         stretching                          False   \n",
              "\n",
              "                  start_time  difficulty_estimate  duration_x        name_y  \\\n",
              "0  2021-05-20 19:32:34-05:00               2.9812         5.0  Matt Wilpers   \n",
              "1  2021-05-20 18:30:44-05:00               8.0258        60.0  Matt Wilpers   \n",
              "2  2021-05-19 18:12:01-05:00               3.5304         5.0  Denis Morton   \n",
              "3  2021-05-19 17:24:44-05:00               8.2692        45.0  Denis Morton   \n",
              "4  2021-05-17 21:21:36-05:00               2.9812         5.0  Matt Wilpers   \n",
              "\n",
              "   avg_output  avg_cadence  avg_resistance  avg_speed  ...  max_speed  \\\n",
              "0           0            0               0        0.0  ...        0.0   \n",
              "1          89           85              35       15.3  ...       18.3   \n",
              "2           0            0               0        0.0  ...        0.0   \n",
              "3          88           87              33       14.7  ...       18.9   \n",
              "4           0            0               0        0.0  ...        0.0   \n",
              "\n",
              "   Power Zone  month  year  weekday  hour   date_only  \\\n",
              "0       False      5  2021        4    18  05/21/2021   \n",
              "1        True      5  2021        3    17  05/20/2021   \n",
              "2       False      5  2021        2    17  05/19/2021   \n",
              "3        True      5  2021        2    16  05/19/2021   \n",
              "4       False      5  2021        1    20  05/18/2021   \n",
              "\n",
              "   percent_leaderboard_rank  body_mass  lean_body_mass  \n",
              "0                       NaN        NaN             NaN  \n",
              "1                 11.332252        NaN             NaN  \n",
              "2                       NaN        NaN             NaN  \n",
              "3                 12.349509        NaN             NaN  \n",
              "4                       NaN      191.8           124.2  \n",
              "\n",
              "[5 rows x 28 columns]"
            ]
          },
          "execution_count": 46,
          "metadata": {},
          "output_type": "execute_result"
        }
      ],
      "source": [
        "main_df.head()"
      ]
    },
    {
      "cell_type": "code",
      "execution_count": null,
      "metadata": {
        "id": "3zOthCUWALZC",
        "outputId": "310f304f-22d3-4e07-bbfc-77ba38736613"
      },
      "outputs": [
        {
          "data": {
            "text/html": [
              "<div>\n",
              "<style scoped>\n",
              "    .dataframe tbody tr th:only-of-type {\n",
              "        vertical-align: middle;\n",
              "    }\n",
              "\n",
              "    .dataframe tbody tr th {\n",
              "        vertical-align: top;\n",
              "    }\n",
              "\n",
              "    .dataframe thead th {\n",
              "        text-align: right;\n",
              "    }\n",
              "</style>\n",
              "<table border=\"1\" class=\"dataframe\">\n",
              "  <thead>\n",
              "    <tr style=\"text-align: right;\">\n",
              "      <th></th>\n",
              "      <th>fitness_discipline</th>\n",
              "      <th>is_total_work_personal_record</th>\n",
              "      <th>start_time</th>\n",
              "      <th>difficulty_estimate</th>\n",
              "      <th>duration</th>\n",
              "      <th>instructor_name</th>\n",
              "      <th>avg_output</th>\n",
              "      <th>avg_cadence</th>\n",
              "      <th>avg_resistance</th>\n",
              "      <th>avg_speed</th>\n",
              "      <th>...</th>\n",
              "      <th>max_speed</th>\n",
              "      <th>Power Zone</th>\n",
              "      <th>month</th>\n",
              "      <th>year</th>\n",
              "      <th>weekday</th>\n",
              "      <th>hour</th>\n",
              "      <th>date_only</th>\n",
              "      <th>percent_leaderboard_rank</th>\n",
              "      <th>body_mass</th>\n",
              "      <th>lean_body_mass</th>\n",
              "    </tr>\n",
              "  </thead>\n",
              "  <tbody>\n",
              "    <tr>\n",
              "      <th>0</th>\n",
              "      <td>stretching</td>\n",
              "      <td>False</td>\n",
              "      <td>2021-05-20 19:32:34-05:00</td>\n",
              "      <td>2.9812</td>\n",
              "      <td>5.0</td>\n",
              "      <td>Matt Wilpers</td>\n",
              "      <td>0</td>\n",
              "      <td>0</td>\n",
              "      <td>0</td>\n",
              "      <td>0.0</td>\n",
              "      <td>...</td>\n",
              "      <td>0.0</td>\n",
              "      <td>False</td>\n",
              "      <td>5</td>\n",
              "      <td>2021</td>\n",
              "      <td>4</td>\n",
              "      <td>18</td>\n",
              "      <td>05/21/2021</td>\n",
              "      <td>NaN</td>\n",
              "      <td>NaN</td>\n",
              "      <td>NaN</td>\n",
              "    </tr>\n",
              "    <tr>\n",
              "      <th>1</th>\n",
              "      <td>cycling</td>\n",
              "      <td>False</td>\n",
              "      <td>2021-05-20 18:30:44-05:00</td>\n",
              "      <td>8.0258</td>\n",
              "      <td>60.0</td>\n",
              "      <td>Matt Wilpers</td>\n",
              "      <td>89</td>\n",
              "      <td>85</td>\n",
              "      <td>35</td>\n",
              "      <td>15.3</td>\n",
              "      <td>...</td>\n",
              "      <td>18.3</td>\n",
              "      <td>True</td>\n",
              "      <td>5</td>\n",
              "      <td>2021</td>\n",
              "      <td>3</td>\n",
              "      <td>17</td>\n",
              "      <td>05/20/2021</td>\n",
              "      <td>11.332252</td>\n",
              "      <td>NaN</td>\n",
              "      <td>NaN</td>\n",
              "    </tr>\n",
              "    <tr>\n",
              "      <th>2</th>\n",
              "      <td>stretching</td>\n",
              "      <td>False</td>\n",
              "      <td>2021-05-19 18:12:01-05:00</td>\n",
              "      <td>3.5304</td>\n",
              "      <td>5.0</td>\n",
              "      <td>Denis Morton</td>\n",
              "      <td>0</td>\n",
              "      <td>0</td>\n",
              "      <td>0</td>\n",
              "      <td>0.0</td>\n",
              "      <td>...</td>\n",
              "      <td>0.0</td>\n",
              "      <td>False</td>\n",
              "      <td>5</td>\n",
              "      <td>2021</td>\n",
              "      <td>2</td>\n",
              "      <td>17</td>\n",
              "      <td>05/19/2021</td>\n",
              "      <td>NaN</td>\n",
              "      <td>NaN</td>\n",
              "      <td>NaN</td>\n",
              "    </tr>\n",
              "    <tr>\n",
              "      <th>3</th>\n",
              "      <td>cycling</td>\n",
              "      <td>False</td>\n",
              "      <td>2021-05-19 17:24:44-05:00</td>\n",
              "      <td>8.2692</td>\n",
              "      <td>45.0</td>\n",
              "      <td>Denis Morton</td>\n",
              "      <td>88</td>\n",
              "      <td>87</td>\n",
              "      <td>33</td>\n",
              "      <td>14.7</td>\n",
              "      <td>...</td>\n",
              "      <td>18.9</td>\n",
              "      <td>True</td>\n",
              "      <td>5</td>\n",
              "      <td>2021</td>\n",
              "      <td>2</td>\n",
              "      <td>16</td>\n",
              "      <td>05/19/2021</td>\n",
              "      <td>12.349509</td>\n",
              "      <td>NaN</td>\n",
              "      <td>NaN</td>\n",
              "    </tr>\n",
              "    <tr>\n",
              "      <th>4</th>\n",
              "      <td>stretching</td>\n",
              "      <td>False</td>\n",
              "      <td>2021-05-17 21:21:36-05:00</td>\n",
              "      <td>2.9812</td>\n",
              "      <td>5.0</td>\n",
              "      <td>Matt Wilpers</td>\n",
              "      <td>0</td>\n",
              "      <td>0</td>\n",
              "      <td>0</td>\n",
              "      <td>0.0</td>\n",
              "      <td>...</td>\n",
              "      <td>0.0</td>\n",
              "      <td>False</td>\n",
              "      <td>5</td>\n",
              "      <td>2021</td>\n",
              "      <td>1</td>\n",
              "      <td>20</td>\n",
              "      <td>05/18/2021</td>\n",
              "      <td>NaN</td>\n",
              "      <td>191.8</td>\n",
              "      <td>124.2</td>\n",
              "    </tr>\n",
              "  </tbody>\n",
              "</table>\n",
              "<p>5 rows × 28 columns</p>\n",
              "</div>"
            ],
            "text/plain": [
              "  fitness_discipline  is_total_work_personal_record  \\\n",
              "0         stretching                          False   \n",
              "1            cycling                          False   \n",
              "2         stretching                          False   \n",
              "3            cycling                          False   \n",
              "4         stretching                          False   \n",
              "\n",
              "                  start_time  difficulty_estimate  duration instructor_name  \\\n",
              "0  2021-05-20 19:32:34-05:00               2.9812       5.0    Matt Wilpers   \n",
              "1  2021-05-20 18:30:44-05:00               8.0258      60.0    Matt Wilpers   \n",
              "2  2021-05-19 18:12:01-05:00               3.5304       5.0    Denis Morton   \n",
              "3  2021-05-19 17:24:44-05:00               8.2692      45.0    Denis Morton   \n",
              "4  2021-05-17 21:21:36-05:00               2.9812       5.0    Matt Wilpers   \n",
              "\n",
              "   avg_output  avg_cadence  avg_resistance  avg_speed  ...  max_speed  \\\n",
              "0           0            0               0        0.0  ...        0.0   \n",
              "1          89           85              35       15.3  ...       18.3   \n",
              "2           0            0               0        0.0  ...        0.0   \n",
              "3          88           87              33       14.7  ...       18.9   \n",
              "4           0            0               0        0.0  ...        0.0   \n",
              "\n",
              "   Power Zone  month  year  weekday  hour   date_only  \\\n",
              "0       False      5  2021        4    18  05/21/2021   \n",
              "1        True      5  2021        3    17  05/20/2021   \n",
              "2       False      5  2021        2    17  05/19/2021   \n",
              "3        True      5  2021        2    16  05/19/2021   \n",
              "4       False      5  2021        1    20  05/18/2021   \n",
              "\n",
              "   percent_leaderboard_rank  body_mass  lean_body_mass  \n",
              "0                       NaN        NaN             NaN  \n",
              "1                 11.332252        NaN             NaN  \n",
              "2                       NaN        NaN             NaN  \n",
              "3                 12.349509        NaN             NaN  \n",
              "4                       NaN      191.8           124.2  \n",
              "\n",
              "[5 rows x 28 columns]"
            ]
          },
          "execution_count": 47,
          "metadata": {},
          "output_type": "execute_result"
        }
      ],
      "source": [
        "#rename columns before saving\n",
        "main_df = main_df.rename(columns={'duration_x':'duration', 'name_y':'instructor_name'})\n",
        "main_df.head()"
      ]
    },
    {
      "cell_type": "code",
      "execution_count": null,
      "metadata": {
        "id": "O3sC7ajXALZD"
      },
      "outputs": [],
      "source": [
        "main_df.to_csv('../Data/EDA_dataset.csv', index=False)"
      ]
    }
  ],
  "metadata": {
    "kernelspec": {
      "display_name": "Python 3",
      "language": "python",
      "name": "python3"
    },
    "language_info": {
      "codemirror_mode": {
        "name": "ipython",
        "version": 3
      },
      "file_extension": ".py",
      "mimetype": "text/x-python",
      "name": "python",
      "nbconvert_exporter": "python",
      "pygments_lexer": "ipython3",
      "version": "3.7.1"
    },
    "colab": {
      "provenance": []
    }
  },
  "nbformat": 4,
  "nbformat_minor": 0
}